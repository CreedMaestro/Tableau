{
 "cells": [
  {
   "cell_type": "code",
   "execution_count": 4,
   "id": "5086607f",
   "metadata": {},
   "outputs": [],
   "source": [
    "import pandas as pd"
   ]
  },
  {
   "cell_type": "code",
   "execution_count": 7,
   "id": "24784ce7",
   "metadata": {},
   "outputs": [
    {
     "name": "stdout",
     "output_type": "stream",
     "text": [
      "        약국명          대표전화                                       도로명주소  \\\n",
      "0    21세기약국  054-452-2121                   경상북도 구미시 신시로 78, 1층 (송정동)   \n",
      "1     24시약국  055-642-4006                  경상남도 통영시 안개로 9, 102호 (무전동)   \n",
      "2  365녹십자약국  031-652-3307                         경기도 평택시 중앙로 2 (통복동)   \n",
      "3     365약국  032-547-0365          인천광역시 계양구 오조산로 1, 거승프라자 107호 (작전동)   \n",
      "4     365약국  031-794-0367  경기도 하남시 미사강변중앙로 226, 우성르보아파크 1층 112호 (망월동)   \n",
      "\n",
      "                      지번주소          월요일          화요일          수요일  \\\n",
      "0     경상북도 구미시 송정동 27-11번지  09:00~23:30  09:00~23:30  09:00~23:30   \n",
      "1  경상남도 통영시 무전동 990-9 102호  09:00~23:30  09:00~23:30  09:00~23:30   \n",
      "2                      NaN  22:00~25:00  22:00~25:00  22:00~25:00   \n",
      "3                      NaN  09:00~23:00  09:00~23:00  09:00~23:00   \n",
      "4                      NaN  09:00~22:30  09:00~22:30  09:00~22:30   \n",
      "\n",
      "           목요일          금요일          토요일          일요일          공휴일  \n",
      "0  09:00~23:30  09:00~23:30  09:00~23:30  10:30~23:30  09:00~23:30  \n",
      "1  09:00~23:30  09:00~23:30  09:00~23:30  14:00~23:30          NaN  \n",
      "2  22:00~25:00  22:00~25:00  22:00~25:00  22:00~25:00  22:00~25:00  \n",
      "3  09:00~23:00  09:00~23:00  09:00~23:00  09:00~23:00  09:00~23:00  \n",
      "4  09:00~22:30  09:00~22:30  09:00~23:00  09:00~23:00  09:00~23:00  \n"
     ]
    }
   ],
   "source": [
    "# csv 데이터프레임 생성\n",
    "csv = pd.read_csv('C:/Users/Creed/Documents/GitHub/Tableau/심야약국.csv',encoding = 'cp949')\n",
    "print(csv.head())"
   ]
  },
  {
   "cell_type": "code",
   "execution_count": 8,
   "id": "8dbe724e",
   "metadata": {},
   "outputs": [
    {
     "name": "stdout",
     "output_type": "stream",
     "text": [
      "0                     경상북도 구미시 신시로 78, 1층 (송정동)\n",
      "1                    경상남도 통영시 안개로 9, 102호 (무전동)\n",
      "2                           경기도 평택시 중앙로 2 (통복동)\n",
      "3            인천광역시 계양구 오조산로 1, 거승프라자 107호 (작전동)\n",
      "4    경기도 하남시 미사강변중앙로 226, 우성르보아파크 1층 112호 (망월동)\n",
      "Name: 도로명주소, dtype: object\n"
     ]
    }
   ],
   "source": [
    "# 저장된 데이터에서 도로명주소 컬럼 추출\n",
    "address = csv['도로명주소']\n",
    "print(address.head())"
   ]
  },
  {
   "cell_type": "code",
   "execution_count": 10,
   "id": "a6efc213",
   "metadata": {},
   "outputs": [
    {
     "name": "stdout",
     "output_type": "stream",
     "text": [
      "0            경상북도 구미시 신시로 78,\n",
      "1             경상남도 통영시 안개로 9,\n",
      "2               경기도 평택시 중앙로 2\n",
      "3           인천광역시 계양구 오조산로 1,\n",
      "4        경기도 하남시 미사강변중앙로 226,\n",
      "                ...          \n",
      "571      부산광역시 북구 화명신도시로 120,\n",
      "572          서울특별시 송파구 잠실로 지하\n",
      "573          경상북도 경산시 하양읍 하양로\n",
      "574    서울특별시 동대문구 고산자로30길 56,\n",
      "575          경기도 안산시 단원구 광덕2로\n",
      "Name: 도로명주소, Length: 576, dtype: object\n"
     ]
    }
   ],
   "source": [
    "# 주소 데이터 정제 (위경도 값에는 층수 포함x. 층수 삭제)\n",
    "for i in range(len(address)):\n",
    "    a = address[i].split(' ')\n",
    "    address[i] = \" \".join(a[0:4])\n",
    "print(address)"
   ]
  }
 ],
 "metadata": {
  "kernelspec": {
   "display_name": "Python 3 (ipykernel)",
   "language": "python",
   "name": "python3"
  },
  "language_info": {
   "codemirror_mode": {
    "name": "ipython",
    "version": 3
   },
   "file_extension": ".py",
   "mimetype": "text/x-python",
   "name": "python",
   "nbconvert_exporter": "python",
   "pygments_lexer": "ipython3",
   "version": "3.9.12"
  }
 },
 "nbformat": 4,
 "nbformat_minor": 5
}
